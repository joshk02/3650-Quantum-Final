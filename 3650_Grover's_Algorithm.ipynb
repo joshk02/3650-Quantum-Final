{
 "cells": [
  {
   "cell_type": "code",
   "execution_count": 1,
   "id": "cacc193f-bc46-4371-bc50-cb5882d449c4",
   "metadata": {},
   "outputs": [],
   "source": [
    "# implement Quantum Circuit"
   ]
  },
  {
   "cell_type": "code",
   "execution_count": 2,
   "id": "4f77c125-3614-42eb-b155-b926f9449b6c",
   "metadata": {},
   "outputs": [],
   "source": [
    "from qiskit import*\n",
    "import matplotlib.pyplot as plt\n",
    "import numpy as np"
   ]
  },
  {
   "cell_type": "code",
   "execution_count": 3,
   "id": "3deadf30-7b27-41de-b3df-514c2c8b1d6b",
   "metadata": {},
   "outputs": [
    {
     "data": {
      "text/html": [
       "<pre style=\"word-wrap: normal;white-space: pre;background: #fff0;line-height: 1.1;font-family: &quot;Courier New&quot;,Courier,monospace\">        \n",
       "q_0: ─■─\n",
       "      │ \n",
       "q_1: ─■─\n",
       "        </pre>"
      ],
      "text/plain": [
       "        \n",
       "q_0: ─■─\n",
       "      │ \n",
       "q_1: ─■─\n",
       "        "
      ]
     },
     "execution_count": 3,
     "metadata": {},
     "output_type": "execute_result"
    }
   ],
   "source": [
    "# define the oracle circuit\n",
    "oracle = QuantumCircuit(2, name='oracle')  # using 2 qubits\n",
    "oracle.cz(0,1)                             # controlled z gate flips sign of desired value\n",
    "oracle.to_gate()                           # turn into gate\n",
    "oracle.draw()"
   ]
  },
  {
   "cell_type": "code",
   "execution_count": 4,
   "id": "1e0f7808-b791-4c5a-8d2e-0c2fc848fabb",
   "metadata": {},
   "outputs": [],
   "source": [
    "# implement Superposition"
   ]
  },
  {
   "cell_type": "code",
   "execution_count": 5,
   "id": "af9269d0-9bc5-4355-8850-8faeade86068",
   "metadata": {},
   "outputs": [
    {
     "data": {
      "text/html": [
       "<pre style=\"word-wrap: normal;white-space: pre;background: #fff0;line-height: 1.1;font-family: &quot;Courier New&quot;,Courier,monospace\">     ┌───┐┌─────────┐\n",
       "q_0: ┤ H ├┤0        ├\n",
       "     ├───┤│  oracle │\n",
       "q_1: ┤ H ├┤1        ├\n",
       "     └───┘└─────────┘\n",
       "c: 2/════════════════\n",
       "                     </pre>"
      ],
      "text/plain": [
       "     ┌───┐┌─────────┐\n",
       "q_0: ┤ H ├┤0        ├\n",
       "     ├───┤│  oracle │\n",
       "q_1: ┤ H ├┤1        ├\n",
       "     └───┘└─────────┘\n",
       "c: 2/════════════════\n",
       "                     "
      ]
     },
     "execution_count": 5,
     "metadata": {},
     "output_type": "execute_result"
    }
   ],
   "source": [
    "backend = Aer.get_backend('statevector_simulator')\n",
    "grover_c = QuantumCircuit(2,2)                   # define circuit with 2 qubits and 2 registers\n",
    "grover_c.h([0,1])                                # add Hadamard Gates on qubits\n",
    "grover_c.append(oracle,[0,1])                    # add oracle\n",
    "grover_c.draw()"
   ]
  },
  {
   "cell_type": "code",
   "execution_count": 6,
   "id": "a59576b2-0bbe-4c90-ac01-d893a6cb488e",
   "metadata": {},
   "outputs": [],
   "source": [
    "job = execute(grover_c, backend)\n",
    "result = job.result()"
   ]
  },
  {
   "cell_type": "code",
   "execution_count": 7,
   "id": "31f914b5-5de7-429a-a830-30c8c7338aba",
   "metadata": {},
   "outputs": [
    {
     "data": {
      "text/plain": [
       "array([ 0.5+0.j,  0.5+0.j,  0.5+0.j, -0.5+0.j])"
      ]
     },
     "execution_count": 7,
     "metadata": {},
     "output_type": "execute_result"
    }
   ],
   "source": [
    "sv = result.get_statevector()\n",
    "np.around(sv, 2)                # round numbers off"
   ]
  },
  {
   "cell_type": "code",
   "execution_count": 8,
   "id": "4c59e10f-34be-4715-a8ae-ce24ebdac383",
   "metadata": {},
   "outputs": [],
   "source": [
    "# implement Reflection Operator"
   ]
  },
  {
   "cell_type": "code",
   "execution_count": 9,
   "id": "4f121389-aa2f-4daa-8a1f-91e22d196c7c",
   "metadata": {},
   "outputs": [
    {
     "data": {
      "text/plain": [
       "Instruction(name='reflection', num_qubits=2, num_clbits=0, params=[])"
      ]
     },
     "execution_count": 9,
     "metadata": {},
     "output_type": "execute_result"
    }
   ],
   "source": [
    "reflection = QuantumCircuit(2, name='reflection')\n",
    "reflection.h([0,1]) # apply Hadamard Gates to qubits\n",
    "reflection.z([0,1]) # apply z to qubits\n",
    "reflection.cz(0,1)  # apply controlled z to qubits\n",
    "reflection.h([0,1]) # turn qubits back into Hadamard Gates\n",
    "reflection.to_gate()"
   ]
  },
  {
   "cell_type": "code",
   "execution_count": 10,
   "id": "615de4ab-118a-4373-aa4f-426572a28eea",
   "metadata": {},
   "outputs": [
    {
     "data": {
      "text/html": [
       "<pre style=\"word-wrap: normal;white-space: pre;background: #fff0;line-height: 1.1;font-family: &quot;Courier New&quot;,Courier,monospace\">     ┌───┐┌───┐   ┌───┐\n",
       "q_0: ┤ H ├┤ Z ├─■─┤ H ├\n",
       "     ├───┤├───┤ │ ├───┤\n",
       "q_1: ┤ H ├┤ Z ├─■─┤ H ├\n",
       "     └───┘└───┘   └───┘</pre>"
      ],
      "text/plain": [
       "     ┌───┐┌───┐   ┌───┐\n",
       "q_0: ┤ H ├┤ Z ├─■─┤ H ├\n",
       "     ├───┤├───┤ │ ├───┤\n",
       "q_1: ┤ H ├┤ Z ├─■─┤ H ├\n",
       "     └───┘└───┘   └───┘"
      ]
     },
     "execution_count": 10,
     "metadata": {},
     "output_type": "execute_result"
    }
   ],
   "source": [
    "reflection.draw()"
   ]
  },
  {
   "cell_type": "code",
   "execution_count": 11,
   "id": "894eac99-5459-4d29-9500-260dee5b7f4a",
   "metadata": {},
   "outputs": [
    {
     "data": {
      "text/plain": [
       "<qiskit.circuit.instructionset.InstructionSet at 0x1e7ffa7a348>"
      ]
     },
     "execution_count": 11,
     "metadata": {},
     "output_type": "execute_result"
    }
   ],
   "source": [
    "backend = Aer.get_backend('qasm_simulator')\n",
    "grover_c = QuantumCircuit(2,2)     # 2 qubits, 2 possible registers\n",
    "grover_c.h([0,1])                  # Hadamards on both qubits to prepare for superposition\n",
    "grover_c.append(oracle, [0,1])     # add oracle\n",
    "grover_c.append(reflection, [0,1]) # add reflection\n",
    "grover_c.measure([0,1], [0,1])     # add measurements"
   ]
  },
  {
   "cell_type": "code",
   "execution_count": 12,
   "id": "72f8132a-f2fb-4a77-9271-4de3edd533cd",
   "metadata": {},
   "outputs": [
    {
     "data": {
      "text/html": [
       "<pre style=\"word-wrap: normal;white-space: pre;background: #fff0;line-height: 1.1;font-family: &quot;Courier New&quot;,Courier,monospace\">     ┌───┐┌─────────┐┌─────────────┐┌─┐   \n",
       "q_0: ┤ H ├┤0        ├┤0            ├┤M├───\n",
       "     ├───┤│  oracle ││  reflection │└╥┘┌─┐\n",
       "q_1: ┤ H ├┤1        ├┤1            ├─╫─┤M├\n",
       "     └───┘└─────────┘└─────────────┘ ║ └╥┘\n",
       "c: 2/════════════════════════════════╩══╩═\n",
       "                                     0  1 </pre>"
      ],
      "text/plain": [
       "     ┌───┐┌─────────┐┌─────────────┐┌─┐   \n",
       "q_0: ┤ H ├┤0        ├┤0            ├┤M├───\n",
       "     ├───┤│  oracle ││  reflection │└╥┘┌─┐\n",
       "q_1: ┤ H ├┤1        ├┤1            ├─╫─┤M├\n",
       "     └───┘└─────────┘└─────────────┘ ║ └╥┘\n",
       "c: 2/════════════════════════════════╩══╩═\n",
       "                                     0  1 "
      ]
     },
     "execution_count": 12,
     "metadata": {},
     "output_type": "execute_result"
    }
   ],
   "source": [
    "grover_c.draw()"
   ]
  },
  {
   "cell_type": "code",
   "execution_count": 13,
   "id": "0e1d3a0d-8100-4136-b146-08de28e9ba44",
   "metadata": {},
   "outputs": [
    {
     "data": {
      "text/plain": [
       "(array([0., 0., 0., 0., 0., 1., 0., 0., 0., 0.]),\n",
       " array([-0.5, -0.4, -0.3, -0.2, -0.1,  0. ,  0.1,  0.2,  0.3,  0.4,  0.5]),\n",
       " <BarContainer object of 10 artists>)"
      ]
     },
     "execution_count": 13,
     "metadata": {},
     "output_type": "execute_result"
    },
    {
     "data": {
      "image/png": "[encoded data removed]",
      "text/plain": [
       "<Figure size 640x480 with 1 Axes>"
      ]
     },
     "metadata": {},
     "output_type": "display_data"
    }
   ],
   "source": [
    "result = execute(grover_c, backend, shots=1).result() # get the 11 state\n",
    "plt.hist(result.get_counts(grover_c))                 # plot as histogram"
   ]
  }
 ],
 "metadata": {
  "kernelspec": {
   "display_name": "Python 3 (ipykernel)",
   "language": "python",
   "name": "python3"
  },
  "language_info": {
   "codemirror_mode": {
    "name": "ipython",
    "version": 3
   },
   "file_extension": ".py",
   "mimetype": "text/x-python",
   "name": "python",
   "nbconvert_exporter": "python",
   "pygments_lexer": "ipython3",
   "version": "3.7.9"
  }
 },
 "nbformat": 4,
 "nbformat_minor": 5
}
